{
 "cells": [
  {
   "cell_type": "code",
   "execution_count": null,
   "metadata": {},
   "outputs": [],
   "source": [
    "from opsml_data import analysis"
   ]
  }
 ],
 "metadata": {
  "kernelspec": {
   "display_name": "opsml-data-SIJFZ0we-py3.9",
   "language": "python",
   "name": "python3"
  },
  "language_info": {
   "name": "python",
   "version": "3.9.7 (v3.9.7:1016ef3790, Aug 30 2021, 16:25:35) \n[Clang 12.0.5 (clang-1205.0.22.11)]"
  },
  "orig_nbformat": 4,
  "vscode": {
   "interpreter": {
    "hash": "d23a828e29f300c5117e036eac53b0cb35c1f5ccd4cb94fdd8c517bdec08ec34"
   }
  }
 },
 "nbformat": 4,
 "nbformat_minor": 2
}
