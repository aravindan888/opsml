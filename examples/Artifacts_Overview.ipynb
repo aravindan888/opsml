{
 "cells": [
  {
   "cell_type": "code",
   "execution_count": 60,
   "id": "0736f498",
   "metadata": {},
   "outputs": [],
   "source": [
    "from opsml_artifacts import SnowflakeQueryRunner, DataCard, CardRegistry"
   ]
  },
  {
   "cell_type": "code",
   "execution_count": 2,
   "id": "d874ebe1",
   "metadata": {},
   "outputs": [],
   "source": [
    "query_runner = SnowflakeQueryRunner(on_vpn=True) \n",
    "#query runner is a temporary wrapper for pyshipt sql (needed for network issues in vertex, see opsml-pipelines docs)"
   ]
  },
  {
   "cell_type": "code",
   "execution_count": 3,
   "id": "bc5afff7",
   "metadata": {},
   "outputs": [],
   "source": [
    "dataframe = query_runner.query_to_dataframe(sql_file=\"data.sql\") \n",
    "#executes sql file or raw sql. data.sql is in examples dir"
   ]
  },
  {
   "cell_type": "code",
   "execution_count": 4,
   "id": "0d96f151",
   "metadata": {},
   "outputs": [
    {
     "data": {
      "text/html": [
       "<div>\n",
       "<style scoped>\n",
       "    .dataframe tbody tr th:only-of-type {\n",
       "        vertical-align: middle;\n",
       "    }\n",
       "\n",
       "    .dataframe tbody tr th {\n",
       "        vertical-align: top;\n",
       "    }\n",
       "\n",
       "    .dataframe thead th {\n",
       "        text-align: right;\n",
       "    }\n",
       "</style>\n",
       "<table border=\"1\" class=\"dataframe\">\n",
       "  <thead>\n",
       "    <tr style=\"text-align: right;\">\n",
       "      <th></th>\n",
       "      <th>TIME_BUNDLE_ID</th>\n",
       "      <th>LOCAL_CREATED_DATE</th>\n",
       "      <th>LOCAL_CREATED_AT</th>\n",
       "      <th>METRO_ID</th>\n",
       "      <th>BUNDLE_TYPE</th>\n",
       "      <th>NBR_ADDRESSES</th>\n",
       "      <th>NBR_ORDERS</th>\n",
       "      <th>DROP_OFF_TIME</th>\n",
       "      <th>EVAL_FLG</th>\n",
       "      <th>EVAL_OUTLIER</th>\n",
       "      <th>...</th>\n",
       "      <th>COS_DAY_YR</th>\n",
       "      <th>SIN_MTH</th>\n",
       "      <th>COS_MTH</th>\n",
       "      <th>SIN_WK_YR</th>\n",
       "      <th>COS_WK_YR</th>\n",
       "      <th>NG_ORDER_ID</th>\n",
       "      <th>METRO_X</th>\n",
       "      <th>METRO_Y</th>\n",
       "      <th>METRO_Z</th>\n",
       "      <th>APT_FLG</th>\n",
       "    </tr>\n",
       "  </thead>\n",
       "  <tbody>\n",
       "    <tr>\n",
       "      <th>0</th>\n",
       "      <td>bcad5d7c-94c3-40a1-b326-9b853aa062ca</td>\n",
       "      <td>2022-04-26</td>\n",
       "      <td>2022-04-26 15:29:25.393948</td>\n",
       "      <td>79</td>\n",
       "      <td>TARP</td>\n",
       "      <td>1</td>\n",
       "      <td>1</td>\n",
       "      <td>2.467930</td>\n",
       "      <td>0</td>\n",
       "      <td>0</td>\n",
       "      <td>...</td>\n",
       "      <td>-0.413277</td>\n",
       "      <td>0.866026</td>\n",
       "      <td>-0.499998</td>\n",
       "      <td>0.885456</td>\n",
       "      <td>-0.464723</td>\n",
       "      <td>E_126706033</td>\n",
       "      <td>176.254764</td>\n",
       "      <td>-4740.574812</td>\n",
       "      <td>4252.708044</td>\n",
       "      <td>0</td>\n",
       "    </tr>\n",
       "    <tr>\n",
       "      <th>1</th>\n",
       "      <td>ffb282a6-960d-4e6d-b358-b01686ffb2a7</td>\n",
       "      <td>2022-05-01</td>\n",
       "      <td>2022-05-01 11:48:11.247692</td>\n",
       "      <td>209</td>\n",
       "      <td>TARP</td>\n",
       "      <td>1</td>\n",
       "      <td>1</td>\n",
       "      <td>3.108182</td>\n",
       "      <td>0</td>\n",
       "      <td>0</td>\n",
       "      <td>...</td>\n",
       "      <td>-0.490029</td>\n",
       "      <td>0.499998</td>\n",
       "      <td>-0.866026</td>\n",
       "      <td>0.885456</td>\n",
       "      <td>-0.464723</td>\n",
       "      <td>E_127411582</td>\n",
       "      <td>1385.224488</td>\n",
       "      <td>-4620.989763</td>\n",
       "      <td>4161.399732</td>\n",
       "      <td>0</td>\n",
       "    </tr>\n",
       "    <tr>\n",
       "      <th>2</th>\n",
       "      <td>87f75002-a99e-409c-badf-8ffe5606bbdd</td>\n",
       "      <td>2022-04-29</td>\n",
       "      <td>2022-04-29 15:04:14.340214</td>\n",
       "      <td>145</td>\n",
       "      <td>TARP</td>\n",
       "      <td>2</td>\n",
       "      <td>2</td>\n",
       "      <td>6.893772</td>\n",
       "      <td>0</td>\n",
       "      <td>0</td>\n",
       "      <td>...</td>\n",
       "      <td>-0.459731</td>\n",
       "      <td>0.866026</td>\n",
       "      <td>-0.499998</td>\n",
       "      <td>0.885456</td>\n",
       "      <td>-0.464723</td>\n",
       "      <td>None</td>\n",
       "      <td>-2187.649703</td>\n",
       "      <td>-4657.255851</td>\n",
       "      <td>3756.833470</td>\n",
       "      <td>0</td>\n",
       "    </tr>\n",
       "    <tr>\n",
       "      <th>3</th>\n",
       "      <td>20b248b3-0b75-4f35-9f7d-b48b76b8e153</td>\n",
       "      <td>2022-04-30</td>\n",
       "      <td>2022-04-30 08:37:55.893871</td>\n",
       "      <td>198</td>\n",
       "      <td>TARP</td>\n",
       "      <td>2</td>\n",
       "      <td>2</td>\n",
       "      <td>9.134985</td>\n",
       "      <td>0</td>\n",
       "      <td>0</td>\n",
       "      <td>...</td>\n",
       "      <td>-0.474950</td>\n",
       "      <td>0.866026</td>\n",
       "      <td>-0.499998</td>\n",
       "      <td>0.885456</td>\n",
       "      <td>-0.464723</td>\n",
       "      <td>None</td>\n",
       "      <td>1309.435295</td>\n",
       "      <td>-4586.262199</td>\n",
       "      <td>4223.886747</td>\n",
       "      <td>0</td>\n",
       "    </tr>\n",
       "    <tr>\n",
       "      <th>4</th>\n",
       "      <td>16c860b1-2bc8-4210-b379-80c479a22c39</td>\n",
       "      <td>2022-04-30</td>\n",
       "      <td>2022-04-30 13:54:02.871898</td>\n",
       "      <td>256</td>\n",
       "      <td>TARP</td>\n",
       "      <td>1</td>\n",
       "      <td>1</td>\n",
       "      <td>2.529990</td>\n",
       "      <td>0</td>\n",
       "      <td>0</td>\n",
       "      <td>...</td>\n",
       "      <td>-0.474950</td>\n",
       "      <td>0.866026</td>\n",
       "      <td>-0.499998</td>\n",
       "      <td>0.885456</td>\n",
       "      <td>-0.464723</td>\n",
       "      <td>E_127310775</td>\n",
       "      <td>-2676.967229</td>\n",
       "      <td>-4303.653229</td>\n",
       "      <td>3860.318165</td>\n",
       "      <td>0</td>\n",
       "    </tr>\n",
       "  </tbody>\n",
       "</table>\n",
       "<p>5 rows × 27 columns</p>\n",
       "</div>"
      ],
      "text/plain": [
       "                         TIME_BUNDLE_ID LOCAL_CREATED_DATE  \\\n",
       "0  bcad5d7c-94c3-40a1-b326-9b853aa062ca         2022-04-26   \n",
       "1  ffb282a6-960d-4e6d-b358-b01686ffb2a7         2022-05-01   \n",
       "2  87f75002-a99e-409c-badf-8ffe5606bbdd         2022-04-29   \n",
       "3  20b248b3-0b75-4f35-9f7d-b48b76b8e153         2022-04-30   \n",
       "4  16c860b1-2bc8-4210-b379-80c479a22c39         2022-04-30   \n",
       "\n",
       "            LOCAL_CREATED_AT  METRO_ID BUNDLE_TYPE  NBR_ADDRESSES  NBR_ORDERS  \\\n",
       "0 2022-04-26 15:29:25.393948        79        TARP              1           1   \n",
       "1 2022-05-01 11:48:11.247692       209        TARP              1           1   \n",
       "2 2022-04-29 15:04:14.340214       145        TARP              2           2   \n",
       "3 2022-04-30 08:37:55.893871       198        TARP              2           2   \n",
       "4 2022-04-30 13:54:02.871898       256        TARP              1           1   \n",
       "\n",
       "   DROP_OFF_TIME  EVAL_FLG  EVAL_OUTLIER  ...  COS_DAY_YR   SIN_MTH   COS_MTH  \\\n",
       "0       2.467930         0             0  ...   -0.413277  0.866026 -0.499998   \n",
       "1       3.108182         0             0  ...   -0.490029  0.499998 -0.866026   \n",
       "2       6.893772         0             0  ...   -0.459731  0.866026 -0.499998   \n",
       "3       9.134985         0             0  ...   -0.474950  0.866026 -0.499998   \n",
       "4       2.529990         0             0  ...   -0.474950  0.866026 -0.499998   \n",
       "\n",
       "   SIN_WK_YR  COS_WK_YR  NG_ORDER_ID      METRO_X      METRO_Y      METRO_Z  \\\n",
       "0   0.885456  -0.464723  E_126706033   176.254764 -4740.574812  4252.708044   \n",
       "1   0.885456  -0.464723  E_127411582  1385.224488 -4620.989763  4161.399732   \n",
       "2   0.885456  -0.464723         None -2187.649703 -4657.255851  3756.833470   \n",
       "3   0.885456  -0.464723         None  1309.435295 -4586.262199  4223.886747   \n",
       "4   0.885456  -0.464723  E_127310775 -2676.967229 -4303.653229  3860.318165   \n",
       "\n",
       "   APT_FLG  \n",
       "0        0  \n",
       "1        0  \n",
       "2        0  \n",
       "3        0  \n",
       "4        0  \n",
       "\n",
       "[5 rows x 27 columns]"
      ]
     },
     "execution_count": 4,
     "metadata": {},
     "output_type": "execute_result"
    }
   ],
   "source": [
    "dataframe.head()"
   ]
  },
  {
   "cell_type": "code",
   "execution_count": 5,
   "id": "90093589",
   "metadata": {},
   "outputs": [
    {
     "name": "stdout",
     "output_type": "stream",
     "text": [
      "{\"level\": \"INFO\", \"message\": \"Table: tarp_drop_off registered as version 6\", \"timestamp\": \"2023-01-24T01:45:44.736720Z\", \"app_env\": \"staging\", \"host\": null, \"version\": null}\n"
     ]
    }
   ],
   "source": [
    "features = [\n",
    "    \"NBR_ADDRESSES\",\n",
    "    \"NBR_ORDERS\",\n",
    "    \"NBR_RX\",\n",
    "    \"NBR_APT\",\n",
    "    \"METRO_X\",\n",
    "    \"METRO_Y\",\n",
    "    \"METRO_Z\",\n",
    "    \"APT_FLG\",\n",
    "    \"DROP_OFF_TIME\",\n",
    "    \"EVAL_FLG\",\n",
    "]\n",
    "DEPENDENT_VAR = \"DROP_OFF_TIME\"\n",
    "\n",
    "# Define DataCard attributes (see examples dir for more detailed information)\n",
    "DATA_NAME = \"tarp_drop_off\"\n",
    "TEAM = \"SPMS\"\n",
    "USER_EMAIL = \"steven.forrester@shipt.com\"\n",
    "DATA_SPLITS = [\n",
    "    {\"label\": \"train\", \"column\": \"EVAL_FLG\", \"column_value\": 0},\n",
    "    {\"label\": \"test\", \"column\": \"EVAL_FLG\", \"column_value\": 1},\n",
    "]\n",
    "\n",
    "data_card = DataCard(\n",
    "    data=dataframe[features],\n",
    "    name=DATA_NAME,\n",
    "    team=TEAM,\n",
    "    user_email=USER_EMAIL,\n",
    "    data_splits=DATA_SPLITS,\n",
    "    dependent_vars=[DEPENDENT_VAR],\n",
    ")\n",
    "\n",
    "data_registry = CardRegistry(registry_name=\"data\")\n",
    "data_registry.register_card(card=data_card)"
   ]
  },
  {
   "cell_type": "code",
   "execution_count": 6,
   "id": "204dfe96",
   "metadata": {},
   "outputs": [],
   "source": [
    "from opsml_artifacts import CardRegistry\n",
    "\n",
    "data_registry = CardRegistry(registry_name=\"data\")\n",
    "tarp_list = data_registry.list_cards(team=\"SPMS\", name=\"tarp_drop_off\")"
   ]
  },
  {
   "cell_type": "code",
   "execution_count": 7,
   "id": "e560b6a7",
   "metadata": {},
   "outputs": [
    {
     "name": "stdout",
     "output_type": "stream",
     "text": [
      "|    | uid                              | date       |     timestamp | app_env   | name          | team   |   version | user_email                 | data_uri                                                                                                        | feature_descriptions   | data_type   | dependent_vars    |\n",
      "|---:|:---------------------------------|:-----------|--------------:|:----------|:--------------|:-------|----------:|:---------------------------|:----------------------------------------------------------------------------------------------------------------|:-----------------------|:------------|:------------------|\n",
      "|  0 | 0cb593c2c82d4a67876f3cd0988e208e | 2023-01-24 | 1674524706817 | staging   | tarp_drop_off | SPMS   |         6 | steven.forrester@shipt.com | gs://shipt-spms-stg-bucket/DATA_REGISTRTY/SPMS/tarp_drop_off/version-6/9efa1b4487b448b3ad1bab10f2fa4644.parquet |                        | DataFrame   | ['DROP_OFF_TIME'] |\n",
      "|  1 | be3fc3c9ab874eb7915231d4c2a44b15 | 2023-01-24 | 1674524413553 | staging   | tarp_drop_off | SPMS   |         5 | steven.forrester@shipt.com | gs://shipt-spms-stg-bucket/DATA_REGISTRTY/SPMS/tarp_drop_off/version-5/8e05b22296e44934886f7ba019334873.parquet |                        | DataFrame   | ['DROP_OFF_TIME'] |\n",
      "|  2 | 0c5a723024af4bd4baa2b0c3b06e8230 | 2023-01-20 | 1674230800665 | staging   | tarp_drop_off | SPMS   |         4 | steven.forrester@shipt.com | gs://shipt-spms-stg-bucket/DATA_REGISTRTY/SPMS/tarp_drop_off/version-4/e6ad9721076449649abe65ef2552811d.parquet |                        | DataFrame   | ['DROP_OFF_TIME'] |\n",
      "|  3 | d7e73dcd7a6746dc95345440ab40cad4 | 2023-01-20 | 1674229383143 | staging   | tarp_drop_off | SPMS   |         3 | steven.forrester@shipt.com | gs://shipt-spms-stg-bucket/DATA_REGISTRTY/SPMS/tarp_drop_off/version-3/0d2b7503a88f41c5813b63eb479d4995.parquet |                        | DataFrame   | ['DROP_OFF_TIME'] |\n",
      "|  4 | a61ab76a18384354a227bae4896af447 | 2023-01-19 | 1674164216904 | staging   | tarp_drop_off | SPMS   |         2 | steven.forrester@shipt.com | gs://shipt-spms-stg-bucket/DATA_REGISTRTY/SPMS/tarp_drop_off/version-2/570e8186d505443797a2cc67fcebdc25.parquet |                        | DataFrame   | ['DROP_OFF_TIME'] |\n",
      "|  5 | d59d242946f54f3f9a1fe0b7edd52002 | 2023-01-19 | 1674149409361 | staging   | tarp_drop_off | SPMS   |         1 | steven.forrester@shipt.com | gs://shipt-spms-stg-bucket/DATA_REGISTRTY/SPMS/tarp_drop_off/version-1/46bd822db6224880afe6490707987991.parquet |                        | DataFrame   | ['DROP_OFF_TIME'] |\n"
     ]
    }
   ],
   "source": [
    "print(tarp_list.loc[:, ~tarp_list.columns.isin([\"feature_map\", \"data_splits\", \"drift_uri\"])].to_markdown())"
   ]
  },
  {
   "cell_type": "code",
   "execution_count": 8,
   "id": "49cdbf7c",
   "metadata": {},
   "outputs": [],
   "source": [
    "loaded_card = data_registry.load_card(uid=data_card.uid) \n",
    "# load_card can take a few arguments. Be sure to check to docstring"
   ]
  },
  {
   "cell_type": "code",
   "execution_count": 9,
   "id": "199e3c1e",
   "metadata": {},
   "outputs": [
    {
     "name": "stdout",
     "output_type": "stream",
     "text": [
      "|    |   NBR_ADDRESSES |   NBR_ORDERS |   NBR_RX |   NBR_APT |   METRO_X |   METRO_Y |   METRO_Z |   APT_FLG |   DROP_OFF_TIME |   EVAL_FLG |\n",
      "|---:|----------------:|-------------:|---------:|----------:|----------:|----------:|----------:|----------:|----------------:|-----------:|\n",
      "|  0 |               1 |            1 |        0 |         0 |   176.255 |  -4740.57 |   4252.71 |         0 |         2.46793 |          0 |\n",
      "|  1 |               1 |            1 |        0 |         0 |  1385.22  |  -4620.99 |   4161.4  |         0 |         3.10818 |          0 |\n",
      "|  2 |               2 |            2 |        0 |         0 | -2187.65  |  -4657.26 |   3756.83 |         0 |         6.89377 |          0 |\n",
      "|  3 |               2 |            2 |        0 |         0 |  1309.44  |  -4586.26 |   4223.89 |         0 |         9.13499 |          0 |\n",
      "|  4 |               1 |            1 |        0 |         0 | -2676.97  |  -4303.65 |   3860.32 |         0 |         2.52999 |          0 |\n"
     ]
    }
   ],
   "source": [
    "print(loaded_card.data.head().to_markdown())"
   ]
  },
  {
   "cell_type": "code",
   "execution_count": 10,
   "id": "b10b72ce",
   "metadata": {},
   "outputs": [],
   "source": [
    "from opsml_artifacts import ModelCard\n",
    "from lightgbm import LGBMRegressor\n",
    "\n",
    "data_splits = data_card.split_data()"
   ]
  },
  {
   "cell_type": "code",
   "execution_count": 11,
   "id": "405299f0",
   "metadata": {},
   "outputs": [],
   "source": [
    "data_splits = data_card.split_data() # get the data splits defined by split logic (data_card.data_splits)\n",
    "\n",
    "# Prepare train data\n",
    "data_splits.train.pop(\"EVAL_FLG\") # pop off eval flg\n",
    "y_train = data_splits.train.pop(\"DROP_OFF_TIME\") # get train target\n",
    "\n",
    "# Prepare test data\n",
    "data_splits.test.pop(\"EVAL_FLG\") # pop off eval flg\n",
    "y_test = data_splits.test.pop(\"DROP_OFF_TIME\") # get train target"
   ]
  },
  {
   "cell_type": "code",
   "execution_count": 13,
   "id": "351f5397",
   "metadata": {},
   "outputs": [
    {
     "name": "stdout",
     "output_type": "stream",
     "text": [
      "{\"level\": \"INFO\", \"message\": \"Registering lightgbm onnx converter\", \"timestamp\": \"2023-01-24T01:47:27.912424Z\", \"app_env\": \"staging\", \"host\": null, \"version\": null}\n",
      "{\"level\": \"INFO\", \"message\": \"Validating converted onnx model\", \"timestamp\": \"2023-01-24T01:47:28.189532Z\", \"app_env\": \"staging\", \"host\": null, \"version\": null}\n",
      "{\"level\": \"INFO\", \"message\": \"Onnx model validated\", \"timestamp\": \"2023-01-24T01:47:28.209281Z\", \"app_env\": \"staging\", \"host\": null, \"version\": null}\n"
     ]
    }
   ],
   "source": [
    "from opsml_artifacts import ModelCard\n",
    "from lightgbm import LGBMRegressor\n",
    "\n",
    "model_registry = CardRegistry(registry_name=\"model\") #load the model registry\n",
    "\n",
    "data_splits = data_card.split_data() # get the data splits defined by split logic (data_card.data_splits)\n",
    "\n",
    "# Prepare train data\n",
    "data_splits.train.pop(\"EVAL_FLG\") # pop off eval flg\n",
    "y_train = data_splits.train.pop(\"DROP_OFF_TIME\") # get train target\n",
    "\n",
    "# Prepare test data\n",
    "data_splits.test.pop(\"EVAL_FLG\") # pop off eval flg\n",
    "y_test = data_splits.test.pop(\"DROP_OFF_TIME\") # get test target\n",
    "\n",
    "# fit model\n",
    "lgb_model = LGBMRegressor()\n",
    "lgb_model.fit(data_splits.train, y_train)\n",
    "\n",
    "model_card = ModelCard(\n",
    "    trained_model=lgb_model,\n",
    "    sample_input_data=data_splits.train[:1],\n",
    "    name=\"tarp_lgb\",\n",
    "    team=TEAM, # defined above\n",
    "    user_email=USER_EMAIL, # defined above\n",
    "    data_card_uid=data_card.uid # this is required if you are planning on registering the model\n",
    ")"
   ]
  },
  {
   "cell_type": "code",
   "execution_count": 14,
   "id": "2c1f6d18",
   "metadata": {},
   "outputs": [
    {
     "name": "stdout",
     "output_type": "stream",
     "text": [
      "{\"level\": \"INFO\", \"message\": \"Table: tarp_lgb registered as version 3\", \"timestamp\": \"2023-01-24T01:48:16.385555Z\", \"app_env\": \"staging\", \"host\": null, \"version\": null}\n"
     ]
    }
   ],
   "source": [
    "model_registry = CardRegistry(registry_name=\"model\")\n",
    "model_registry.register_card(card=model_card)"
   ]
  },
  {
   "cell_type": "code",
   "execution_count": 15,
   "id": "0bf72778",
   "metadata": {},
   "outputs": [],
   "source": [
    "model_card = model_registry.load_card(uid=model_card.uid)\n",
    "onnx_model = model_card.model()"
   ]
  },
  {
   "cell_type": "code",
   "execution_count": 16,
   "id": "ca65e01c",
   "metadata": {},
   "outputs": [
    {
     "data": {
      "text/plain": [
       "{'title': 'Features',\n",
       " 'type': 'object',\n",
       " 'properties': {'NBR_ADDRESSES': {'title': 'Nbr Addresses', 'type': 'integer'},\n",
       "  'NBR_ORDERS': {'title': 'Nbr Orders', 'type': 'integer'},\n",
       "  'NBR_RX': {'title': 'Nbr Rx', 'type': 'integer'},\n",
       "  'NBR_APT': {'title': 'Nbr Apt', 'type': 'integer'},\n",
       "  'METRO_X': {'title': 'Metro X', 'type': 'number'},\n",
       "  'METRO_Y': {'title': 'Metro Y', 'type': 'number'},\n",
       "  'METRO_Z': {'title': 'Metro Z', 'type': 'number'},\n",
       "  'APT_FLG': {'title': 'Apt Flg', 'type': 'integer'}},\n",
       " 'required': ['NBR_ADDRESSES',\n",
       "  'NBR_ORDERS',\n",
       "  'NBR_RX',\n",
       "  'NBR_APT',\n",
       "  'METRO_X',\n",
       "  'METRO_Y',\n",
       "  'METRO_Z',\n",
       "  'APT_FLG']}"
      ]
     },
     "execution_count": 16,
     "metadata": {},
     "output_type": "execute_result"
    }
   ],
   "source": [
    "onnx_model.input_sig.schema()"
   ]
  },
  {
   "cell_type": "code",
   "execution_count": 17,
   "id": "b06c7e7f",
   "metadata": {},
   "outputs": [],
   "source": [
    "model_card.load_trained_model() # load trained model if laoding from registry"
   ]
  },
  {
   "cell_type": "code",
   "execution_count": 59,
   "id": "6665be87",
   "metadata": {},
   "outputs": [
    {
     "name": "stdout",
     "output_type": "stream",
     "text": [
      "Onnx: 5.1914 Lightgbm: 5.1914\n"
     ]
    }
   ],
   "source": [
    "record = data_splits.test[0:1].to_dict(orient='records')[0]\n",
    "\n",
    "# if testing a model that was trained on a numpy array, the model will expect a dictionary with a single list\n",
    "# record = {\"data\": list(np.ravel(data[:1]))}\n",
    "\n",
    "# test the onnx model \n",
    "onnx_pred = float(np.ravel(onnx_model.predict(record))[0])\n",
    "\n",
    "# Compare to original model\n",
    "orig_pred = float(onnx_model.predict_with_model(model_card.trained_model, record)[0])\n",
    "\n",
    "print(f\"Onnx: {round(onnx_pred,4)}\", f\"Lightgbm: {round(orig_pred,4)}\")"
   ]
  },
  {
   "cell_type": "code",
   "execution_count": null,
   "id": "8cfb10b2",
   "metadata": {},
   "outputs": [],
   "source": []
  }
 ],
 "metadata": {
  "kernelspec": {
   "display_name": "Python 3 (ipykernel)",
   "language": "python",
   "name": "python3"
  },
  "language_info": {
   "codemirror_mode": {
    "name": "ipython",
    "version": 3
   },
   "file_extension": ".py",
   "mimetype": "text/x-python",
   "name": "python",
   "nbconvert_exporter": "python",
   "pygments_lexer": "ipython3",
   "version": "3.9.2"
  }
 },
 "nbformat": 4,
 "nbformat_minor": 5
}
