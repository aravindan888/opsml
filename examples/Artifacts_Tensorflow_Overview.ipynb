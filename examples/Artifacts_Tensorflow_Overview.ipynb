{
 "cells": [
  {
   "cell_type": "code",
   "execution_count": 11,
   "id": "b5102fd0",
   "metadata": {},
   "outputs": [],
   "source": [
    "from opsml_artifacts import SnowflakeQueryRunner, ModelCard\n",
    "import tensorflow as tf\n",
    "from tensorflow import keras\n",
    "from tensorflow.keras import layers\n",
    "import numpy as np"
   ]
  },
  {
   "cell_type": "markdown",
   "id": "7e180b37",
   "metadata": {},
   "source": [
    "### Get Sample Data"
   ]
  },
  {
   "cell_type": "code",
   "execution_count": 5,
   "id": "62ef46d3",
   "metadata": {},
   "outputs": [
    {
     "name": "stdout",
     "output_type": "stream",
     "text": [
      "25000 Training sequences\n",
      "25000 Validation sequences\n"
     ]
    }
   ],
   "source": [
    "vocab_size = 500  # Only consider the top 20k words\n",
    "maxlen = 100  # Only consider the first 200 words of each movie review\n",
    "(x_train, y_train), (x_val, y_val) = keras.datasets.imdb.load_data(num_words=vocab_size)\n",
    "print(len(x_train), \"Training sequences\")\n",
    "print(len(x_val), \"Validation sequences\")\n",
    "x_train = keras.preprocessing.sequence.pad_sequences(x_train, maxlen=maxlen)\n",
    "x_val = keras.preprocessing.sequence.pad_sequences(x_val, maxlen=maxlen)"
   ]
  },
  {
   "cell_type": "markdown",
   "id": "7c387c17",
   "metadata": {},
   "source": [
    "### Create Model"
   ]
  },
  {
   "cell_type": "code",
   "execution_count": 4,
   "id": "fd53d8cc",
   "metadata": {},
   "outputs": [],
   "source": [
    "class TransformerBlock(layers.Layer):\n",
    "    def __init__(self, embed_dim, num_heads, ff_dim, rate=0.1):\n",
    "        super().__init__()\n",
    "        self.att = layers.MultiHeadAttention(num_heads=num_heads, key_dim=embed_dim)\n",
    "        self.ffn = keras.Sequential(\n",
    "            [layers.Dense(ff_dim, activation=\"relu\"), layers.Dense(embed_dim),]\n",
    "        )\n",
    "        self.layernorm1 = layers.LayerNormalization(epsilon=1e-6)\n",
    "        self.layernorm2 = layers.LayerNormalization(epsilon=1e-6)\n",
    "        self.dropout1 = layers.Dropout(rate)\n",
    "        self.dropout2 = layers.Dropout(rate)\n",
    "\n",
    "    def call(self, inputs, training):\n",
    "        attn_output = self.att(inputs, inputs)\n",
    "        attn_output = self.dropout1(attn_output, training=training)\n",
    "        out1 = self.layernorm1(inputs + attn_output)\n",
    "        ffn_output = self.ffn(out1)\n",
    "        ffn_output = self.dropout2(ffn_output, training=training)\n",
    "        return self.layernorm2(out1 + ffn_output)\n",
    "\n",
    "class TokenAndPositionEmbedding(layers.Layer):\n",
    "    def __init__(self, maxlen, vocab_size, embed_dim):\n",
    "        super().__init__()\n",
    "        self.token_emb = layers.Embedding(input_dim=vocab_size, output_dim=embed_dim)\n",
    "        self.pos_emb = layers.Embedding(input_dim=maxlen, output_dim=embed_dim)\n",
    "\n",
    "    def call(self, x):\n",
    "        maxlen = tf.shape(x)[-1]\n",
    "        positions = tf.range(start=0, limit=maxlen, delta=1)\n",
    "        positions = self.pos_emb(positions)\n",
    "        x = self.token_emb(x)\n",
    "        return x + positions"
   ]
  },
  {
   "cell_type": "markdown",
   "id": "28f0d57a",
   "metadata": {},
   "source": [
    "### Combine model  layers\n",
    "- making model smaller for example"
   ]
  },
  {
   "cell_type": "code",
   "execution_count": 7,
   "id": "ec477233",
   "metadata": {},
   "outputs": [],
   "source": [
    "embed_dim = 4  # Embedding size for each token\n",
    "num_heads = 2  # Number of attention heads\n",
    "ff_dim = 4  # Hidden layer size in feed forward network inside transformer\n",
    "\n",
    "inputs = layers.Input(shape=(maxlen,))\n",
    "embedding_layer = TokenAndPositionEmbedding(maxlen, vocab_size, embed_dim)\n",
    "x = embedding_layer(inputs)\n",
    "transformer_block = TransformerBlock(embed_dim, num_heads, ff_dim)\n",
    "x = transformer_block(x)\n",
    "x = layers.GlobalAveragePooling1D()(x)\n",
    "x = layers.Dropout(0.1)(x)\n",
    "x = layers.Dense(4, activation=\"relu\")(x)\n",
    "x = layers.Dropout(0.1)(x)\n",
    "outputs = layers.Dense(2, activation=\"softmax\")(x)\n",
    "\n",
    "model = keras.Model(inputs=inputs, outputs=outputs)"
   ]
  },
  {
   "cell_type": "markdown",
   "id": "16830fe1",
   "metadata": {},
   "source": [
    "### Fit Model"
   ]
  },
  {
   "cell_type": "code",
   "execution_count": 10,
   "id": "01e6bc56",
   "metadata": {},
   "outputs": [
    {
     "name": "stdout",
     "output_type": "stream",
     "text": [
      "20/20 [==============================] - 6s 248ms/step - loss: 0.6985 - accuracy: 0.4945 - val_loss: 0.6940 - val_accuracy: 0.4996\n"
     ]
    }
   ],
   "source": [
    "model.compile(optimizer=\"adam\", loss=\"sparse_categorical_crossentropy\", metrics=[\"accuracy\"])\n",
    "history = model.fit(\n",
    "    x_train.astype(np.float32), y_train, batch_size=64, epochs=1, steps_per_epoch=20,validation_data=(x_val.astype(np.float32), y_val)\n",
    ")"
   ]
  },
  {
   "cell_type": "markdown",
   "id": "b875588c",
   "metadata": {},
   "source": [
    "### Test ModelCard"
   ]
  },
  {
   "cell_type": "code",
   "execution_count": 13,
   "id": "24d046a4",
   "metadata": {},
   "outputs": [
    {
     "name": "stderr",
     "output_type": "stream",
     "text": [
      "2023-01-24 02:08:02.711609: I tensorflow/core/grappler/devices.cc:66] Number of eligible GPUs (core count >= 8, compute capability >= 0.0): 0\n",
      "2023-01-24 02:08:02.711832: I tensorflow/core/grappler/clusters/single_machine.cc:358] Starting new session\n",
      "2023-01-24 02:08:02.899616: I tensorflow/core/grappler/devices.cc:66] Number of eligible GPUs (core count >= 8, compute capability >= 0.0): 0\n",
      "2023-01-24 02:08:02.899848: I tensorflow/core/grappler/clusters/single_machine.cc:358] Starting new session\n"
     ]
    },
    {
     "name": "stdout",
     "output_type": "stream",
     "text": [
      "1/1 [==============================] - 0s 228ms/step\n",
      "{\"level\": \"INFO\", \"message\": \"Validating converted onnx model\", \"timestamp\": \"2023-01-24T02:08:05.978712Z\", \"app_env\": \"staging\", \"host\": null, \"version\": null}\n",
      "{\"level\": \"INFO\", \"message\": \"Onnx model validated\", \"timestamp\": \"2023-01-24T02:08:06.017909Z\", \"app_env\": \"staging\", \"host\": null, \"version\": null}\n"
     ]
    }
   ],
   "source": [
    "MODEL_NAME = \"transformer\"\n",
    "TEAM = \"SPMS\"\n",
    "USER_EMAIL = \"steven.forrester@shipt.com\"\n",
    "\n",
    "model_card = ModelCard(\n",
    "    name=MODEL_NAME,\n",
    "    team=TEAM,\n",
    "    user_email=USER_EMAIL,\n",
    "    trained_model=model,\n",
    "    sample_input_data=x_train[0:1],\n",
    ")"
   ]
  },
  {
   "cell_type": "code",
   "execution_count": 14,
   "id": "03572874",
   "metadata": {},
   "outputs": [
    {
     "name": "stdout",
     "output_type": "stream",
     "text": [
      "{\"level\": \"WARNING\", \"message\": \"ModelCard has no version (not registered).\\n                Defaulting to 1 (for testing only)\\n            \", \"timestamp\": \"2023-01-24T02:08:24.329488Z\", \"app_env\": \"staging\", \"host\": null, \"version\": null}\n"
     ]
    }
   ],
   "source": [
    "onnx_model = model_card.model()"
   ]
  },
  {
   "cell_type": "code",
   "execution_count": 15,
   "id": "e7a4cb5c",
   "metadata": {},
   "outputs": [
    {
     "data": {
      "text/plain": [
       "{'title': 'Features',\n",
       " 'type': 'object',\n",
       " 'properties': {'input_2': {'title': 'Input 2',\n",
       "   'minItems': 100,\n",
       "   'maxItems': 100,\n",
       "   'type': 'array',\n",
       "   'items': {'type': 'number'}}},\n",
       " 'required': ['input_2']}"
      ]
     },
     "execution_count": 15,
     "metadata": {},
     "output_type": "execute_result"
    }
   ],
   "source": [
    "onnx_model.input_sig.schema()"
   ]
  },
  {
   "cell_type": "code",
   "execution_count": 16,
   "id": "ab8e9c31",
   "metadata": {},
   "outputs": [
    {
     "data": {
      "text/plain": [
       "{'title': 'Features',\n",
       " 'type': 'object',\n",
       " 'properties': {'dense_7': {'title': 'Dense 7',\n",
       "   'minItems': 2,\n",
       "   'maxItems': 2,\n",
       "   'type': 'array',\n",
       "   'items': {'type': 'number'}}},\n",
       " 'required': ['dense_7']}"
      ]
     },
     "execution_count": 16,
     "metadata": {},
     "output_type": "execute_result"
    }
   ],
   "source": [
    "onnx_model.output_sig.schema()"
   ]
  },
  {
   "cell_type": "code",
   "execution_count": null,
   "id": "7fd51584",
   "metadata": {},
   "outputs": [],
   "source": []
  }
 ],
 "metadata": {
  "kernelspec": {
   "display_name": "Python 3 (ipykernel)",
   "language": "python",
   "name": "python3"
  },
  "language_info": {
   "codemirror_mode": {
    "name": "ipython",
    "version": 3
   },
   "file_extension": ".py",
   "mimetype": "text/x-python",
   "name": "python",
   "nbconvert_exporter": "python",
   "pygments_lexer": "ipython3",
   "version": "3.9.2"
  }
 },
 "nbformat": 4,
 "nbformat_minor": 5
}
